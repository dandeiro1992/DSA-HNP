{
 "cells": [
  {
   "cell_type": "code",
   "execution_count": 78,
   "metadata": {},
   "outputs": [
    {
     "name": "stdout",
     "output_type": "stream",
     "text": [
      "310105173612566804338386771070701413337072260084101931561878221401583000843072811534400440\n",
      "[]\n"
     ]
    }
   ],
   "source": [
    "N=random_prime(2^150)*random_prime(2^150)\n",
    "message=Integer('thepasswordfortodayisswordfish',base=35)\n",
    "c=message^3%N\n",
    "print(c)\n",
    "a=Integer('thepasswordfortodayisswordfis0',base=35)\n",
    "X=Integer('x',base=35)\n",
    "M=matrix([[X^3,3*X^2*a,3*X*a^2,a^3-c],[0,N*X^2,0,0],[0,0,N*X,0],[0,0,0,N]])\n",
    "# print(M)\n",
    "B=M.LLL()\n",
    "# print(B)\n",
    "Q=(B[0][0])*x^3/X^3+(B[0][1])*x^2/X^2+(B[0][2])*x/X+(B[0][3])\n",
    "print(Q.roots(ring=ZZ))\n"
   ]
  },
  {
   "cell_type": "code",
   "execution_count": null,
   "metadata": {},
   "outputs": [],
   "source": []
  },
  {
   "cell_type": "code",
   "execution_count": null,
   "metadata": {},
   "outputs": [],
   "source": []
  },
  {
   "cell_type": "code",
   "execution_count": null,
   "metadata": {},
   "outputs": [],
   "source": []
  }
 ],
 "metadata": {
  "kernelspec": {
   "display_name": "SageMath 8.9",
   "language": "sage",
   "name": "sagemath"
  },
  "language_info": {
   "codemirror_mode": {
    "name": "ipython",
    "version": 2
   },
   "file_extension": ".py",
   "mimetype": "text/x-python",
   "name": "python",
   "nbconvert_exporter": "python",
   "pygments_lexer": "ipython2",
   "version": "2.7.15"
  }
 },
 "nbformat": 4,
 "nbformat_minor": 2
}
