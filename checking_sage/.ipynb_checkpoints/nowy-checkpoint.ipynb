{
 "cells": [
  {
   "cell_type": "code",
   "execution_count": null,
   "metadata": {},
   "outputs": [],
   "source": [
    "def parameters(p_length, q_length):\n",
    "    stop = 2 ** 10\n",
    "    while True:\n",
    "        counter = 0\n",
    "        q = random_prime(2 ** (q_length - 1), False, 2 ** q_length - 1)\n",
    "        while True:\n",
    "            a = int((2 ** (p_length - 1)) / q)\n",
    "            b = int((2 ** p_length - 1) / q)\n",
    "            k = random_prime(a,False, b) + 1\n",
    "            p = k * q + 1\n",
    "            counter += 1\n",
    "            if (is_prime(p)) or counter == stop:\n",
    "                break\n",
    "        if counter != stop:\n",
    "            break\n",
    "    return p, q\n",
    "p_length=512\n",
    "q_length=160\n",
    "print(3)\n",
    "p, q = parameters(p_length, q_length)\n",
    "print(p,q) \n",
    "print(2)"
   ]
  },
  {
   "cell_type": "code",
   "execution_count": null,
   "metadata": {},
   "outputs": [],
   "source": []
  }
 ],
 "metadata": {
  "kernelspec": {
   "display_name": "SageMath 9.0",
   "language": "sage",
   "name": "sagemath"
  },
  "language_info": {
   "codemirror_mode": {
    "name": "ipython",
    "version": 3
   },
   "file_extension": ".py",
   "mimetype": "text/x-python",
   "name": "python",
   "nbconvert_exporter": "python",
   "pygments_lexer": "ipython3",
   "version": "3.7.6"
  }
 },
 "nbformat": 4,
 "nbformat_minor": 2
}
